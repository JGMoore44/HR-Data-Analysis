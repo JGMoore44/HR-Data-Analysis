{
 "cells": [
  {
   "cell_type": "markdown",
   "metadata": {},
   "source": [
    "### Import Appropriate Packages"
   ]
  },
  {
   "cell_type": "code",
   "execution_count": 23,
   "metadata": {},
   "outputs": [],
   "source": [
    "import numpy as np\n",
    "import pandas as pd\n",
    "from pandas import ExcelWriter\n",
    "from pandas import ExcelFile\n",
    "\n",
    "import matplotlib.pyplot as plt\n",
    "import sklearn\n",
    "from sklearn.ensemble import RandomForestRegressor\n",
    "from sklearn.ensemble import RandomForestClassifier"
   ]
  },
  {
   "cell_type": "markdown",
   "metadata": {},
   "source": [
    "### Data Loading and Cleaning"
   ]
  },
  {
   "cell_type": "code",
   "execution_count": 122,
   "metadata": {},
   "outputs": [
    {
     "data": {
      "text/plain": [
       "35"
      ]
     },
     "execution_count": 122,
     "metadata": {},
     "output_type": "execute_result"
    }
   ],
   "source": [
    "#read in the excel file\n",
    "address = 'C:/Users/James Moore/HR-Data-Analysis/HR-Employee-Attrition.xlsx'\n",
    "df = pd.read_excel(address)\n",
    "\n",
    "#print(\"Column headings:\")\n",
    "#print(df.columns)\n",
    "len(df.columns)"
   ]
  },
  {
   "cell_type": "code",
   "execution_count": 123,
   "metadata": {},
   "outputs": [
    {
     "data": {
      "text/plain": [
       "array(['Yes', 'No'], dtype=object)"
      ]
     },
     "execution_count": 123,
     "metadata": {},
     "output_type": "execute_result"
    }
   ],
   "source": [
    "categorical_vars = ['Attrition','BusinessTravel','Department','EducationField','Gender','JobRole','MaritalStatus','OverTime']\n",
    "df['Attrition'].unique()"
   ]
  },
  {
   "cell_type": "code",
   "execution_count": 124,
   "metadata": {},
   "outputs": [
    {
     "data": {
      "text/plain": [
       "array(['Travel_Rarely', 'Travel_Frequently', 'Non-Travel'], dtype=object)"
      ]
     },
     "execution_count": 124,
     "metadata": {},
     "output_type": "execute_result"
    }
   ],
   "source": [
    "df['Attrition_coded'] = np.where(df['Attrition']=='Yes',1,0)\n",
    "\n",
    "#BusinessTravel\n",
    "df['BusinessTravel'].unique()"
   ]
  },
  {
   "cell_type": "code",
   "execution_count": 125,
   "metadata": {},
   "outputs": [
    {
     "data": {
      "text/plain": [
       "array(['Sales', 'Research & Development', 'Human Resources'], dtype=object)"
      ]
     },
     "execution_count": 125,
     "metadata": {},
     "output_type": "execute_result"
    }
   ],
   "source": [
    "conditions = [\n",
    "    df['BusinessTravel']=='Travel_Rarely',\n",
    "    df['BusinessTravel']=='Travel_Frequently',\n",
    "    df['BusinessTravel']=='Non-Travel']\n",
    "choices = [1,2,0]\n",
    "df['BusinessTravel_coded'] = np.select(conditions,choices)\n",
    "\n",
    "#Department\n",
    "df['Department'].unique()"
   ]
  },
  {
   "cell_type": "code",
   "execution_count": 126,
   "metadata": {},
   "outputs": [
    {
     "data": {
      "text/plain": [
       "array(['Life Sciences', 'Other', 'Medical', 'Marketing',\n",
       "       'Technical Degree', 'Human Resources'], dtype=object)"
      ]
     },
     "execution_count": 126,
     "metadata": {},
     "output_type": "execute_result"
    }
   ],
   "source": [
    "conditions = [\n",
    "    df['Department']=='Sales',\n",
    "    df['Department']=='Research & Development',\n",
    "    df['Department']=='Human Resources'\n",
    "]\n",
    "choices = [0,1,2]\n",
    "df['Department_coded'] = np.select(conditions,choices)\n",
    "\n",
    "#Education Field\n",
    "df['EducationField'].unique()"
   ]
  },
  {
   "cell_type": "code",
   "execution_count": 127,
   "metadata": {},
   "outputs": [
    {
     "data": {
      "text/plain": [
       "array(['Female', 'Male'], dtype=object)"
      ]
     },
     "execution_count": 127,
     "metadata": {},
     "output_type": "execute_result"
    }
   ],
   "source": [
    "conditions = [\n",
    "    df['EducationField'] == 'Life Sciences',\n",
    "    df['EducationField'] == 'Other',\n",
    "    df['EducationField'] == 'Medical',\n",
    "    df['EducationField'] == 'Marketing',\n",
    "    df['EducationField'] == 'Technical Degree',\n",
    "    df['EducationField'] == 'Human Resources',\n",
    "]\n",
    "choices = [0,1,2,3,4,5]\n",
    "df['EducationField_coded'] = np.select(conditions,choices)\n",
    "\n",
    "#Gender\n",
    "df['Gender'].unique()"
   ]
  },
  {
   "cell_type": "code",
   "execution_count": 128,
   "metadata": {},
   "outputs": [
    {
     "data": {
      "text/plain": [
       "array(['Sales Executive', 'Research Scientist', 'Laboratory Technician',\n",
       "       'Manufacturing Director', 'Healthcare Representative', 'Manager',\n",
       "       'Sales Representative', 'Research Director', 'Human Resources'],\n",
       "      dtype=object)"
      ]
     },
     "execution_count": 128,
     "metadata": {},
     "output_type": "execute_result"
    }
   ],
   "source": [
    "df['Gender_coded'] = np.where(df['Gender']=='Male',1,0)\n",
    "\n",
    "#Job Role\n",
    "df['JobRole'].unique()"
   ]
  },
  {
   "cell_type": "code",
   "execution_count": 129,
   "metadata": {},
   "outputs": [
    {
     "data": {
      "text/plain": [
       "array(['Single', 'Married', 'Divorced'], dtype=object)"
      ]
     },
     "execution_count": 129,
     "metadata": {},
     "output_type": "execute_result"
    }
   ],
   "source": [
    "conditions= [\n",
    "    df['JobRole'] == 'Sales Executive',\n",
    "    df['JobRole'] == 'Research Scientist',\n",
    "    df['JobRole'] == 'Laboratory Technician',\n",
    "    df['JobRole'] == 'Manufacturing Director',\n",
    "    df['JobRole'] == 'Healthcare Representative',\n",
    "    df['JobRole'] == 'Manager',\n",
    "    df['JobRole'] == 'Sales Representative',\n",
    "    df['JobRole'] == 'Research Director',\n",
    "    df['JobRole'] == 'Human Resources'\n",
    "]\n",
    "choices = [0,1,2,3,4,5,6,7,8]\n",
    "df['JobRole_coded'] = np.select(conditions,choices)\n",
    "\n",
    "#Marital Status\n",
    "df['MaritalStatus'].unique()"
   ]
  },
  {
   "cell_type": "code",
   "execution_count": 130,
   "metadata": {},
   "outputs": [
    {
     "data": {
      "text/plain": [
       "array(['Yes', 'No'], dtype=object)"
      ]
     },
     "execution_count": 130,
     "metadata": {},
     "output_type": "execute_result"
    }
   ],
   "source": [
    "conditions = [\n",
    "    df['MaritalStatus'] == 'Single',\n",
    "    df['MaritalStatus'] == 'Married',\n",
    "    df['MaritalStatus'] == 'Divorced'\n",
    "]\n",
    "choices = [0,1,2]\n",
    "df['MaritalStatus_coded'] = np.select(conditions,choices)\n",
    "\n",
    "#Overtime\n",
    "df['OverTime'].unique()"
   ]
  },
  {
   "cell_type": "code",
   "execution_count": 131,
   "metadata": {},
   "outputs": [
    {
     "data": {
      "text/plain": [
       "0    1\n",
       "1    0\n",
       "2    1\n",
       "3    1\n",
       "4    0\n",
       "Name: OverTime_coded, dtype: int32"
      ]
     },
     "execution_count": 131,
     "metadata": {},
     "output_type": "execute_result"
    }
   ],
   "source": [
    "df['OverTime_coded'] = np.where(df['OverTime']=='Yes',1,0)\n",
    "df['OverTime_coded'].head()"
   ]
  },
  {
   "cell_type": "code",
   "execution_count": 132,
   "metadata": {},
   "outputs": [],
   "source": [
    "#remove Variables that provide no information gain or loss\n",
    "vars_to_drop = ['EmployeeCount','StandardHours','Over18','EmployeeNumber']\n",
    "df.drop(vars_to_drop,axis = 1, inplace=True)"
   ]
  },
  {
   "cell_type": "code",
   "execution_count": 133,
   "metadata": {},
   "outputs": [
    {
     "data": {
      "text/plain": [
       "39"
      ]
     },
     "execution_count": 133,
     "metadata": {},
     "output_type": "execute_result"
    }
   ],
   "source": [
    "len(df.columns)"
   ]
  },
  {
   "cell_type": "markdown",
   "metadata": {},
   "source": [
    "### Use Random Forest to Identify Important Variables"
   ]
  },
  {
   "cell_type": "code",
   "execution_count": 157,
   "metadata": {},
   "outputs": [],
   "source": [
    "target = df.Attrition\n",
    "data = df.drop('Attrition',axis = 1, inplace=False)\n",
    "Uncoded_vars = ['Attrition_coded','BusinessTravel','Department','EducationField','Gender','JobRole','MaritalStatus','OverTime']\n",
    "data = data.drop(Uncoded_vars,axis=1,inplace = False)"
   ]
  },
  {
   "cell_type": "code",
   "execution_count": 158,
   "metadata": {},
   "outputs": [
    {
     "data": {
      "text/plain": [
       "RandomForestClassifier(bootstrap=True, class_weight=None, criterion='gini',\n",
       "            max_depth=None, max_features='auto', max_leaf_nodes=None,\n",
       "            min_impurity_decrease=0.0, min_impurity_split=None,\n",
       "            min_samples_leaf=1, min_samples_split=2,\n",
       "            min_weight_fraction_leaf=0.0, n_estimators=500, n_jobs=None,\n",
       "            oob_score=False, random_state=44, verbose=0, warm_start=False)"
      ]
     },
     "execution_count": 158,
     "metadata": {},
     "output_type": "execute_result"
    }
   ],
   "source": [
    "randForest = RandomForestClassifier(n_estimators=500,random_state=44)\n",
    "randForest.fit(data,target)"
   ]
  },
  {
   "cell_type": "markdown",
   "metadata": {},
   "source": [
    "#### Plot Variable Importance with respect to Gini Importance"
   ]
  },
  {
   "cell_type": "code",
   "execution_count": 166,
   "metadata": {},
   "outputs": [
    {
     "data": {
      "text/plain": [
       "Text(0, 0.5, 'Important Features')"
      ]
     },
     "execution_count": 166,
     "metadata": {},
     "output_type": "execute_result"
    },
    {
     "data": {
      "image/png": "[encoded data removed]",
      "text/plain": [
       "<Figure size 432x288 with 1 Axes>"
      ]
     },
     "metadata": {
      "needs_background": "light"
     },
     "output_type": "display_data"
    }
   ],
   "source": [
    "feat_importances = pd.Series(randForest.feature_importances_, index=data.columns)\n",
    "feat_importances.nlargest(5).plot(kind='barh')\n",
    "plt.title(\"Variable Importance Plot\")\n",
    "plt.xlabel('Gini Importance')\n",
    "plt.ylabel('Important Features')"
   ]
  }
 ],
 "metadata": {
  "kernelspec": {
   "display_name": "Python 3",
   "language": "python",
   "name": "python3"
  },
  "language_info": {
   "codemirror_mode": {
    "name": "ipython",
    "version": 3
   },
   "file_extension": ".py",
   "mimetype": "text/x-python",
   "name": "python",
   "nbconvert_exporter": "python",
   "pygments_lexer": "ipython3",
   "version": "3.7.1"
  }
 },
 "nbformat": 4,
 "nbformat_minor": 2
}
